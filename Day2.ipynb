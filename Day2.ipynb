{
 "cells": [
  {
   "cell_type": "code",
   "execution_count": null,
   "id": "beb2766a",
   "metadata": {},
   "outputs": [],
   "source": []
  },
  {
   "cell_type": "markdown",
   "id": "e96aa439",
   "metadata": {},
   "source": [
    "This is a case study based questions and answers.\n",
    "Context:\n",
    "You work at a retail company with both online and offline presence. Your manager hands you the sales dataset and says:\n",
    "\n",
    "“We need a quick analysis. I want to understand which regions are underperforming, and what kind of products are selling better in different regions. Also, is there anything odd you spot?”"
   ]
  },
  {
   "cell_type": "markdown",
   "id": "618682f9",
   "metadata": {},
   "source": [
    "Basic Insights:\n",
    "\n",
    "What are the total sales and profits overall?\n",
    "\n",
    "Which region has the highest and lowest sales?\n",
    "\n",
    "What is the average discount given?"
   ]
  },
  {
   "cell_type": "code",
   "execution_count": null,
   "id": "486bcc7d",
   "metadata": {},
   "outputs": [],
   "source": []
  },
  {
   "cell_type": "markdown",
   "id": "a9e8212d",
   "metadata": {},
   "source": [
    "Product Insights:\n",
    "\n",
    "Top 5 most sold products by quantity.\n",
    "\n",
    "Top 3 product categories by sales.\n",
    "\n"
   ]
  },
  {
   "cell_type": "markdown",
   "id": "09774436",
   "metadata": {},
   "source": [
    "Regional Insights:\n",
    "\n",
    "In each region, which product category performs best?\n",
    "\n",
    "Are there any regions where profits are consistently low?"
   ]
  },
  {
   "cell_type": "markdown",
   "id": "d6f535f0",
   "metadata": {},
   "source": [
    "Suspicious/Interesting Findings:\n",
    "\n",
    "Are there any discounts that lead to negative profits?\n",
    "\n",
    "Are some products being sold with high discounts but low quantities?"
   ]
  },
  {
   "cell_type": "markdown",
   "id": "4386f2ff",
   "metadata": {},
   "source": [
    "Build a very simple linear regression model to see if you can predict Profit using Sales, Discount, and Quantity."
   ]
  }
 ],
 "metadata": {
  "language_info": {
   "name": "python"
  }
 },
 "nbformat": 4,
 "nbformat_minor": 5
}
