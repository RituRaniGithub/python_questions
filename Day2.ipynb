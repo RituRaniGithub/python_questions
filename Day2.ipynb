{
 "cells": [
  {
   "cell_type": "markdown",
   "id": "e96aa439",
   "metadata": {},
   "source": [
    "# Case Study\n",
    "\n",
    "This is a case study with context-based questions and answers.\n",
    "\n",
    "## Context\n",
    "You are working at a retail company with both online and offline operations. Your manager hands you the sales dataset and says:\n",
    "\n",
    "“We need a quick analysis. I want to identify underperforming regions, understand which product categories perform best in each region, and spot any unusual patterns in the data.”\n"
   ]
  },
  {
   "cell_type": "markdown",
   "id": "618682f9",
   "metadata": {},
   "source": [
    "## Basic Insights:\n",
    "\n",
    "What are the total sales and profits overall?\n",
    "\n",
    "Which region has the highest and lowest sales?\n",
    "\n",
    "What is the average discount given?"
   ]
  },
  {
   "cell_type": "code",
   "execution_count": 66,
   "id": "486bcc7d",
   "metadata": {},
   "outputs": [
    {
     "data": {
      "text/html": [
       "<div>\n",
       "<style scoped>\n",
       "    .dataframe tbody tr th:only-of-type {\n",
       "        vertical-align: middle;\n",
       "    }\n",
       "\n",
       "    .dataframe tbody tr th {\n",
       "        vertical-align: top;\n",
       "    }\n",
       "\n",
       "    .dataframe thead th {\n",
       "        text-align: right;\n",
       "    }\n",
       "</style>\n",
       "<table border=\"1\" class=\"dataframe\">\n",
       "  <thead>\n",
       "    <tr style=\"text-align: right;\">\n",
       "      <th></th>\n",
       "      <th>Order ID</th>\n",
       "      <th>Product</th>\n",
       "      <th>Category</th>\n",
       "      <th>Region</th>\n",
       "      <th>Sales</th>\n",
       "      <th>Quantity</th>\n",
       "      <th>Discount</th>\n",
       "      <th>Profit</th>\n",
       "      <th>Order Date</th>\n",
       "    </tr>\n",
       "  </thead>\n",
       "  <tbody>\n",
       "    <tr>\n",
       "      <th>0</th>\n",
       "      <td>1001</td>\n",
       "      <td>Nike Shoes</td>\n",
       "      <td>Apparel</td>\n",
       "      <td>South</td>\n",
       "      <td>19288.00</td>\n",
       "      <td>2</td>\n",
       "      <td>0.00</td>\n",
       "      <td>4539.24</td>\n",
       "      <td>5/20/2023</td>\n",
       "    </tr>\n",
       "    <tr>\n",
       "      <th>1</th>\n",
       "      <td>1002</td>\n",
       "      <td>iPhone</td>\n",
       "      <td>Electronics</td>\n",
       "      <td>West</td>\n",
       "      <td>2452.00</td>\n",
       "      <td>1</td>\n",
       "      <td>0.00</td>\n",
       "      <td>352.42</td>\n",
       "      <td>5/10/2023</td>\n",
       "    </tr>\n",
       "    <tr>\n",
       "      <th>2</th>\n",
       "      <td>1003</td>\n",
       "      <td>Action Figure</td>\n",
       "      <td>Toys</td>\n",
       "      <td>North</td>\n",
       "      <td>57506.75</td>\n",
       "      <td>5</td>\n",
       "      <td>0.15</td>\n",
       "      <td>8286.04</td>\n",
       "      <td>5/31/2023</td>\n",
       "    </tr>\n",
       "    <tr>\n",
       "      <th>3</th>\n",
       "      <td>1004</td>\n",
       "      <td>Nike Shoes</td>\n",
       "      <td>Apparel</td>\n",
       "      <td>North</td>\n",
       "      <td>78630.10</td>\n",
       "      <td>2</td>\n",
       "      <td>0.15</td>\n",
       "      <td>13213.80</td>\n",
       "      <td>2/9/2023</td>\n",
       "    </tr>\n",
       "    <tr>\n",
       "      <th>4</th>\n",
       "      <td>1005</td>\n",
       "      <td>Levi's Jeans</td>\n",
       "      <td>Apparel</td>\n",
       "      <td>East</td>\n",
       "      <td>5591.30</td>\n",
       "      <td>1</td>\n",
       "      <td>0.15</td>\n",
       "      <td>667.28</td>\n",
       "      <td>3/30/2023</td>\n",
       "    </tr>\n",
       "  </tbody>\n",
       "</table>\n",
       "</div>"
      ],
      "text/plain": [
       "   Order ID        Product     Category Region     Sales  Quantity  Discount  \\\n",
       "0      1001     Nike Shoes      Apparel  South  19288.00         2      0.00   \n",
       "1      1002         iPhone  Electronics   West   2452.00         1      0.00   \n",
       "2      1003  Action Figure         Toys  North  57506.75         5      0.15   \n",
       "3      1004     Nike Shoes      Apparel  North  78630.10         2      0.15   \n",
       "4      1005   Levi's Jeans      Apparel   East   5591.30         1      0.15   \n",
       "\n",
       "     Profit Order Date  \n",
       "0   4539.24  5/20/2023  \n",
       "1    352.42  5/10/2023  \n",
       "2   8286.04  5/31/2023  \n",
       "3  13213.80   2/9/2023  \n",
       "4    667.28  3/30/2023  "
      ]
     },
     "execution_count": 66,
     "metadata": {},
     "output_type": "execute_result"
    }
   ],
   "source": [
    "import pandas as pd\n",
    "df = pd.read_csv('case_study.csv')\n",
    "df.head()"
   ]
  },
  {
   "cell_type": "code",
   "execution_count": 67,
   "id": "ffc78691",
   "metadata": {},
   "outputs": [
    {
     "data": {
      "text/plain": [
       "(150, 9)"
      ]
     },
     "execution_count": 67,
     "metadata": {},
     "output_type": "execute_result"
    }
   ],
   "source": [
    "df.shape"
   ]
  },
  {
   "cell_type": "code",
   "execution_count": 68,
   "id": "c108cfbe",
   "metadata": {},
   "outputs": [
    {
     "data": {
      "text/plain": [
       "Order ID      0\n",
       "Product       0\n",
       "Category      0\n",
       "Region        0\n",
       "Sales         0\n",
       "Quantity      0\n",
       "Discount      0\n",
       "Profit        0\n",
       "Order Date    0\n",
       "dtype: int64"
      ]
     },
     "execution_count": 68,
     "metadata": {},
     "output_type": "execute_result"
    }
   ],
   "source": [
    "df.isnull().sum()"
   ]
  },
  {
   "cell_type": "code",
   "execution_count": 69,
   "id": "dea7f8f5",
   "metadata": {},
   "outputs": [
    {
     "name": "stdout",
     "output_type": "stream",
     "text": [
      "<class 'pandas.core.frame.DataFrame'>\n",
      "RangeIndex: 150 entries, 0 to 149\n",
      "Data columns (total 9 columns):\n",
      " #   Column      Non-Null Count  Dtype  \n",
      "---  ------      --------------  -----  \n",
      " 0   Order ID    150 non-null    int64  \n",
      " 1   Product     150 non-null    object \n",
      " 2   Category    150 non-null    object \n",
      " 3   Region      150 non-null    object \n",
      " 4   Sales       150 non-null    float64\n",
      " 5   Quantity    150 non-null    int64  \n",
      " 6   Discount    150 non-null    float64\n",
      " 7   Profit      150 non-null    float64\n",
      " 8   Order Date  150 non-null    object \n",
      "dtypes: float64(3), int64(2), object(4)\n",
      "memory usage: 10.7+ KB\n"
     ]
    }
   ],
   "source": [
    "df.info()"
   ]
  },
  {
   "cell_type": "code",
   "execution_count": 70,
   "id": "6fb5c6c4",
   "metadata": {},
   "outputs": [
    {
     "name": "stdout",
     "output_type": "stream",
     "text": [
      "<class 'pandas.core.frame.DataFrame'>\n",
      "RangeIndex: 150 entries, 0 to 149\n",
      "Data columns (total 9 columns):\n",
      " #   Column      Non-Null Count  Dtype         \n",
      "---  ------      --------------  -----         \n",
      " 0   Order ID    150 non-null    int64         \n",
      " 1   Product     150 non-null    object        \n",
      " 2   Category    150 non-null    object        \n",
      " 3   Region      150 non-null    object        \n",
      " 4   Sales       150 non-null    float64       \n",
      " 5   Quantity    150 non-null    int64         \n",
      " 6   Discount    150 non-null    float64       \n",
      " 7   Profit      150 non-null    float64       \n",
      " 8   Order Date  150 non-null    datetime64[ns]\n",
      "dtypes: datetime64[ns](1), float64(3), int64(2), object(3)\n",
      "memory usage: 10.7+ KB\n"
     ]
    }
   ],
   "source": [
    "import datetime as dt\n",
    "df['Order Date'] = pd.to_datetime(df['Order Date'])\n",
    "df.info()\n"
   ]
  },
  {
   "cell_type": "code",
   "execution_count": 71,
   "id": "08498109",
   "metadata": {},
   "outputs": [
    {
     "name": "stdout",
     "output_type": "stream",
     "text": [
      "The Total sales are 13226095.15 and the Total Profits are Rs.2513891.5\n"
     ]
    }
   ],
   "source": [
    "#What are the total sales and profits overall?\n",
    "Total_sales = df['Sales'].sum().round(2)\n",
    "Total_profits = df['Profit'].sum()\n",
    "print(f'The Total sales are {Total_sales} and the Total Profits are Rs.{Total_profits}')"
   ]
  },
  {
   "cell_type": "code",
   "execution_count": 72,
   "id": "0889bf47",
   "metadata": {},
   "outputs": [
    {
     "data": {
      "text/plain": [
       "Region\n",
       "East     4868485.00\n",
       "West     3414870.90\n",
       "North    2650787.80\n",
       "South    2291951.45\n",
       "Name: Sales, dtype: float64"
      ]
     },
     "execution_count": 72,
     "metadata": {},
     "output_type": "execute_result"
    }
   ],
   "source": [
    "#Which region has the highest and lowest sales?\n",
    "df.groupby('Region')['Sales'].sum().sort_values(ascending=False)\n"
   ]
  },
  {
   "cell_type": "code",
   "execution_count": 73,
   "id": "8529c854",
   "metadata": {},
   "outputs": [
    {
     "data": {
      "text/plain": [
       "0.08"
      ]
     },
     "execution_count": 73,
     "metadata": {},
     "output_type": "execute_result"
    }
   ],
   "source": [
    "#What is the average discount given?\n",
    "avg_dis = df['Discount'].mean()\n",
    "avg_dis"
   ]
  },
  {
   "cell_type": "markdown",
   "id": "a9e8212d",
   "metadata": {},
   "source": [
    "## Product Insights:\n",
    "Top 5 most sold products by quantity."
   ]
  },
  {
   "cell_type": "code",
   "execution_count": 74,
   "id": "6bee2a20",
   "metadata": {},
   "outputs": [
    {
     "data": {
      "text/plain": [
       "Product\n",
       "Dining Table    54\n",
       "Nike Shoes      52\n",
       "iPhone          48\n",
       "Levi's Jeans    47\n",
       "Lego Set        44\n",
       "Name: Quantity, dtype: int64"
      ]
     },
     "execution_count": 74,
     "metadata": {},
     "output_type": "execute_result"
    }
   ],
   "source": [
    "df.groupby('Product')['Quantity'].sum().sort_values(ascending= False).head(5)"
   ]
  },
  {
   "cell_type": "code",
   "execution_count": 75,
   "id": "d30593b5",
   "metadata": {},
   "outputs": [
    {
     "data": {
      "text/plain": [
       "Category\n",
       "Electronics    3629980.35\n",
       "Apparel        2604781.25\n",
       "Furniture      2588036.55\n",
       "Name: Sales, dtype: float64"
      ]
     },
     "execution_count": 75,
     "metadata": {},
     "output_type": "execute_result"
    }
   ],
   "source": [
    "#Top 3 product categories by sales.\n",
    "df.groupby('Category')['Sales'].sum().sort_values(ascending= False).head(3)"
   ]
  },
  {
   "cell_type": "markdown",
   "id": "09774436",
   "metadata": {},
   "source": [
    "## Regional Insights:\n",
    "In each region, which product category performs best?"
   ]
  },
  {
   "cell_type": "code",
   "execution_count": 76,
   "id": "b2ea72f6",
   "metadata": {},
   "outputs": [
    {
     "data": {
      "text/html": [
       "<div>\n",
       "<style scoped>\n",
       "    .dataframe tbody tr th:only-of-type {\n",
       "        vertical-align: middle;\n",
       "    }\n",
       "\n",
       "    .dataframe tbody tr th {\n",
       "        vertical-align: top;\n",
       "    }\n",
       "\n",
       "    .dataframe thead th {\n",
       "        text-align: right;\n",
       "    }\n",
       "</style>\n",
       "<table border=\"1\" class=\"dataframe\">\n",
       "  <thead>\n",
       "    <tr style=\"text-align: right;\">\n",
       "      <th></th>\n",
       "      <th>Region</th>\n",
       "      <th>Category</th>\n",
       "      <th>Sales</th>\n",
       "    </tr>\n",
       "  </thead>\n",
       "  <tbody>\n",
       "    <tr>\n",
       "      <th>4</th>\n",
       "      <td>East</td>\n",
       "      <td>Toys</td>\n",
       "      <td>1175125.10</td>\n",
       "    </tr>\n",
       "    <tr>\n",
       "      <th>1</th>\n",
       "      <td>East</td>\n",
       "      <td>Electronics</td>\n",
       "      <td>1158450.00</td>\n",
       "    </tr>\n",
       "    <tr>\n",
       "      <th>3</th>\n",
       "      <td>East</td>\n",
       "      <td>Furniture</td>\n",
       "      <td>995776.00</td>\n",
       "    </tr>\n",
       "    <tr>\n",
       "      <th>2</th>\n",
       "      <td>East</td>\n",
       "      <td>Food</td>\n",
       "      <td>771835.20</td>\n",
       "    </tr>\n",
       "    <tr>\n",
       "      <th>0</th>\n",
       "      <td>East</td>\n",
       "      <td>Apparel</td>\n",
       "      <td>767298.70</td>\n",
       "    </tr>\n",
       "    <tr>\n",
       "      <th>6</th>\n",
       "      <td>North</td>\n",
       "      <td>Electronics</td>\n",
       "      <td>825624.05</td>\n",
       "    </tr>\n",
       "    <tr>\n",
       "      <th>5</th>\n",
       "      <td>North</td>\n",
       "      <td>Apparel</td>\n",
       "      <td>727472.15</td>\n",
       "    </tr>\n",
       "    <tr>\n",
       "      <th>8</th>\n",
       "      <td>North</td>\n",
       "      <td>Furniture</td>\n",
       "      <td>513882.45</td>\n",
       "    </tr>\n",
       "    <tr>\n",
       "      <th>9</th>\n",
       "      <td>North</td>\n",
       "      <td>Toys</td>\n",
       "      <td>406102.05</td>\n",
       "    </tr>\n",
       "    <tr>\n",
       "      <th>7</th>\n",
       "      <td>North</td>\n",
       "      <td>Food</td>\n",
       "      <td>177707.10</td>\n",
       "    </tr>\n",
       "    <tr>\n",
       "      <th>13</th>\n",
       "      <td>South</td>\n",
       "      <td>Furniture</td>\n",
       "      <td>578900.70</td>\n",
       "    </tr>\n",
       "    <tr>\n",
       "      <th>12</th>\n",
       "      <td>South</td>\n",
       "      <td>Food</td>\n",
       "      <td>563161.80</td>\n",
       "    </tr>\n",
       "    <tr>\n",
       "      <th>14</th>\n",
       "      <td>South</td>\n",
       "      <td>Toys</td>\n",
       "      <td>545820.40</td>\n",
       "    </tr>\n",
       "    <tr>\n",
       "      <th>10</th>\n",
       "      <td>South</td>\n",
       "      <td>Apparel</td>\n",
       "      <td>344828.70</td>\n",
       "    </tr>\n",
       "    <tr>\n",
       "      <th>11</th>\n",
       "      <td>South</td>\n",
       "      <td>Electronics</td>\n",
       "      <td>259239.85</td>\n",
       "    </tr>\n",
       "    <tr>\n",
       "      <th>16</th>\n",
       "      <td>West</td>\n",
       "      <td>Electronics</td>\n",
       "      <td>1386666.45</td>\n",
       "    </tr>\n",
       "    <tr>\n",
       "      <th>15</th>\n",
       "      <td>West</td>\n",
       "      <td>Apparel</td>\n",
       "      <td>765181.70</td>\n",
       "    </tr>\n",
       "    <tr>\n",
       "      <th>18</th>\n",
       "      <td>West</td>\n",
       "      <td>Furniture</td>\n",
       "      <td>499477.40</td>\n",
       "    </tr>\n",
       "    <tr>\n",
       "      <th>19</th>\n",
       "      <td>West</td>\n",
       "      <td>Toys</td>\n",
       "      <td>415045.30</td>\n",
       "    </tr>\n",
       "    <tr>\n",
       "      <th>17</th>\n",
       "      <td>West</td>\n",
       "      <td>Food</td>\n",
       "      <td>348500.05</td>\n",
       "    </tr>\n",
       "  </tbody>\n",
       "</table>\n",
       "</div>"
      ],
      "text/plain": [
       "   Region     Category       Sales\n",
       "4    East         Toys  1175125.10\n",
       "1    East  Electronics  1158450.00\n",
       "3    East    Furniture   995776.00\n",
       "2    East         Food   771835.20\n",
       "0    East      Apparel   767298.70\n",
       "6   North  Electronics   825624.05\n",
       "5   North      Apparel   727472.15\n",
       "8   North    Furniture   513882.45\n",
       "9   North         Toys   406102.05\n",
       "7   North         Food   177707.10\n",
       "13  South    Furniture   578900.70\n",
       "12  South         Food   563161.80\n",
       "14  South         Toys   545820.40\n",
       "10  South      Apparel   344828.70\n",
       "11  South  Electronics   259239.85\n",
       "16   West  Electronics  1386666.45\n",
       "15   West      Apparel   765181.70\n",
       "18   West    Furniture   499477.40\n",
       "19   West         Toys   415045.30\n",
       "17   West         Food   348500.05"
      ]
     },
     "execution_count": 76,
     "metadata": {},
     "output_type": "execute_result"
    }
   ],
   "source": [
    "df.groupby(['Region','Category'])['Sales'].sum().reset_index().sort_values(by=['Region','Sales'], ascending=[True,False])"
   ]
  },
  {
   "cell_type": "markdown",
   "id": "5e05dd15",
   "metadata": {},
   "source": [
    "Toys performs best in East Region,Electronics in North,Furniture in South, and Electronics again in West."
   ]
  },
  {
   "cell_type": "code",
   "execution_count": 77,
   "id": "f89a104a",
   "metadata": {},
   "outputs": [
    {
     "data": {
      "text/plain": [
       "Region  month\n",
       "East    1        214398.18\n",
       "West    5        187854.82\n",
       "East    6        178089.28\n",
       "        2        167098.47\n",
       "North   3        145928.07\n",
       "West    4        136726.84\n",
       "South   2        135253.35\n",
       "East    3        134490.34\n",
       "North   1        128352.02\n",
       "East    5        117318.19\n",
       "        4        116233.75\n",
       "South   3        113553.44\n",
       "North   2         94933.94\n",
       "West    1         90482.70\n",
       "South   6         82607.00\n",
       "North   4         73623.22\n",
       "West    6         70651.86\n",
       "        3         68221.49\n",
       "South   1         57935.69\n",
       "North   6         54257.39\n",
       "West    2         49278.07\n",
       "North   5         43097.98\n",
       "South   5         32985.50\n",
       "        4         20519.91\n",
       "Name: Profit, dtype: float64"
      ]
     },
     "execution_count": 77,
     "metadata": {},
     "output_type": "execute_result"
    }
   ],
   "source": [
    "#Are there any regions where profits are consistently low?\n",
    "df['month']= df['Order Date'].dt.month\n",
    "df.groupby(['Region','month'])['Profit'].sum().sort_values(ascending = False)"
   ]
  },
  {
   "cell_type": "markdown",
   "id": "7730a999",
   "metadata": {},
   "source": [
    "South Sales are lowest."
   ]
  },
  {
   "cell_type": "code",
   "execution_count": 78,
   "id": "b12af54c",
   "metadata": {},
   "outputs": [
    {
     "data": {
      "text/plain": [
       "Timestamp('2023-06-30 00:00:00')"
      ]
     },
     "execution_count": 78,
     "metadata": {},
     "output_type": "execute_result"
    }
   ],
   "source": [
    "max(df['Order Date'])"
   ]
  },
  {
   "cell_type": "code",
   "execution_count": 79,
   "id": "92bb548c",
   "metadata": {},
   "outputs": [
    {
     "data": {
      "text/plain": [
       "Timestamp('2023-01-01 00:00:00')"
      ]
     },
     "execution_count": 79,
     "metadata": {},
     "output_type": "execute_result"
    }
   ],
   "source": [
    "min(df['Order Date'])"
   ]
  },
  {
   "cell_type": "markdown",
   "id": "d6f535f0",
   "metadata": {},
   "source": [
    "## Suspicious/Interesting Findings:\n",
    "#Are there any discounts that lead to negative profits?"
   ]
  },
  {
   "cell_type": "code",
   "execution_count": 80,
   "id": "352e0228",
   "metadata": {},
   "outputs": [
    {
     "data": {
      "text/plain": [
       "-0.038445392553860404"
      ]
     },
     "execution_count": 80,
     "metadata": {},
     "output_type": "execute_result"
    }
   ],
   "source": [
    "df['Profit'].corr(df['Discount'])"
   ]
  },
  {
   "cell_type": "markdown",
   "id": "8765c579",
   "metadata": {},
   "source": [
    "Profits and discount are weakly corelated. There are very less chances that discounts leads to negative profits."
   ]
  },
  {
   "cell_type": "markdown",
   "id": "4386f2ff",
   "metadata": {},
   "source": [
    "## Build a very simple linear regression model to see if you can predict Profit using Sales, Discount, and Quantity."
   ]
  },
  {
   "cell_type": "code",
   "execution_count": 81,
   "id": "eb9b93d0",
   "metadata": {},
   "outputs": [
    {
     "name": "stdout",
     "output_type": "stream",
     "text": [
      "                            OLS Regression Results                            \n",
      "==============================================================================\n",
      "Dep. Variable:                 Profit   R-squared:                       0.794\n",
      "Model:                            OLS   Adj. R-squared:                  0.790\n",
      "Method:                 Least Squares   F-statistic:                     187.4\n",
      "Date:                Sun, 27 Jul 2025   Prob (F-statistic):           7.44e-50\n",
      "Time:                        21:25:01   Log-Likelihood:                -1530.7\n",
      "No. Observations:                 150   AIC:                             3069.\n",
      "Df Residuals:                     146   BIC:                             3082.\n",
      "Df Model:                           3                                         \n",
      "Covariance Type:            nonrobust                                         \n",
      "==============================================================================\n",
      "                 coef    std err          t      P>|t|      [0.025      0.975]\n",
      "------------------------------------------------------------------------------\n",
      "const        953.7933   1475.656      0.646      0.519   -1962.613    3870.200\n",
      "Discount    -1.43e+04   9379.769     -1.525      0.129   -3.28e+04    4235.292\n",
      "Sales          0.1969      0.010     18.880      0.000       0.176       0.218\n",
      "Quantity    -140.1477    495.114     -0.283      0.778   -1118.663     838.368\n",
      "==============================================================================\n",
      "Omnibus:                       14.958   Durbin-Watson:                   2.064\n",
      "Prob(Omnibus):                  0.001   Jarque-Bera (JB):               39.886\n",
      "Skew:                           0.277   Prob(JB):                     2.18e-09\n",
      "Kurtosis:                       5.465   Cond. No.                     1.91e+06\n",
      "==============================================================================\n",
      "\n",
      "Notes:\n",
      "[1] Standard Errors assume that the covariance matrix of the errors is correctly specified.\n",
      "[2] The condition number is large, 1.91e+06. This might indicate that there are\n",
      "strong multicollinearity or other numerical problems.\n"
     ]
    }
   ],
   "source": [
    "import statsmodels.api as sm\n",
    "X = df[['Discount','Sales','Quantity']]\n",
    "y = df['Profit']\n",
    "\n",
    "X = sm.add_constant(X)\n",
    "model = sm.OLS(y,X).fit()\n",
    "\n",
    "print(model.summary())"
   ]
  },
  {
   "cell_type": "markdown",
   "id": "2631fbdd",
   "metadata": {},
   "source": [
    "This means 79.4% of the variance in Profit is explained by the three variables Discount, Sales, and Quantity.From the p values we can see that only Sales is statistically significant in predicting the profit (p<0.05) that means For every ₹1 increase in Sales, Profit increases by ~₹0.20. Overall the model is strong since Prob (F-statistic) = 7.44e-50 (<0.05) but there is multicollinearity in the data. We shall go ahead with VIF to assess it."
   ]
  }
 ],
 "metadata": {
  "kernelspec": {
   "display_name": "Python 3",
   "language": "python",
   "name": "python3"
  },
  "language_info": {
   "codemirror_mode": {
    "name": "ipython",
    "version": 3
   },
   "file_extension": ".py",
   "mimetype": "text/x-python",
   "name": "python",
   "nbconvert_exporter": "python",
   "pygments_lexer": "ipython3",
   "version": "3.12.3"
  }
 },
 "nbformat": 4,
 "nbformat_minor": 5
}
