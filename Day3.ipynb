{
 "cells": [
  {
   "cell_type": "code",
   "execution_count": 1,
   "id": "5ff3bd38",
   "metadata": {},
   "outputs": [
    {
     "name": "stdout",
     "output_type": "stream",
     "text": [
      "Neither uppercase nor lowercase latter\n"
     ]
    }
   ],
   "source": [
    "#1. Determine if a given letter is uppercase, lowercase, or neither.\n",
    "\n",
    "letter = \"5\"\n",
    "if letter.isupper():\n",
    "    print(\"Uppercase letter\")\n",
    "\n",
    "elif letter.islower():\n",
    "    print(\"Lowercase letter\")\n",
    "else:\n",
    "    print(\"Neither uppercase nor lowercase latter\")"
   ]
  },
  {
   "cell_type": "code",
   "execution_count": 2,
   "id": "97f3164a",
   "metadata": {},
   "outputs": [
    {
     "data": {
      "text/plain": [
       "5"
      ]
     },
     "execution_count": 2,
     "metadata": {},
     "output_type": "execute_result"
    }
   ],
   "source": [
    "2+3"
   ]
  },
  {
   "cell_type": "code",
   "execution_count": 3,
   "id": "eddb43fc",
   "metadata": {},
   "outputs": [
    {
     "name": "stdout",
     "output_type": "stream",
     "text": [
      "Not a digit\n"
     ]
    }
   ],
   "source": [
    "#2. Check if a character is a digit\n",
    "char = \"apple\"\n",
    "\n",
    "if char.isdigit():\n",
    "    print(\"Character is a digit\")\n",
    "else:\n",
    "    print(\"Not a digit\")"
   ]
  },
  {
   "cell_type": "code",
   "execution_count": 4,
   "id": "9df25a88",
   "metadata": {},
   "outputs": [],
   "source": [
    "#3. Write a function that counts the frequency of each word in this sentence:\n",
    "#sentence = \"Data science is fun and data is powerful\"\n",
    "# Excepted output {'data': 2, 'science': 1, 'is': 2, 'fun': 1, 'and': 1, 'powerful': 1}\n",
    "\n",
    "def freq(sentence):\n",
    "    words = sentence.split()\n",
    "    frequency = {}\n",
    "    for word in words:\n",
    "        word = word.lower()\n",
    "        if word in frequency:\n",
    "            frequency[word] += 1\n",
    "        else:\n",
    "            frequency[word] = 1\n",
    "    return frequency\n",
    "\n",
    "\n"
   ]
  },
  {
   "cell_type": "code",
   "execution_count": 5,
   "id": "7016d2b5",
   "metadata": {},
   "outputs": [
    {
     "data": {
      "text/plain": [
       "{'data': 2, 'science': 1, 'is': 2, 'fun': 1, 'and': 1, 'powerful': 1}"
      ]
     },
     "execution_count": 5,
     "metadata": {},
     "output_type": "execute_result"
    }
   ],
   "source": [
    "sentence = \"Data science is fun and data is powerful\"\n",
    "freq(sentence)"
   ]
  },
  {
   "cell_type": "code",
   "execution_count": 6,
   "id": "6a4cd4e6",
   "metadata": {},
   "outputs": [
    {
     "data": {
      "text/plain": [
       "array([ 2,  6, 10, 14])"
      ]
     },
     "execution_count": 6,
     "metadata": {},
     "output_type": "execute_result"
    }
   ],
   "source": [
    "#4. Without using loops, create a NumPy array of shape (4,4) with values from 1 to 16, and then extract the second column.\n",
    "import numpy as np\n",
    "np.arange(1,17).reshape(4,4)[:,1]"
   ]
  },
  {
   "cell_type": "code",
   "execution_count": 7,
   "id": "d5a43d2c",
   "metadata": {},
   "outputs": [],
   "source": [
    "#5. What is wrong with this code?\n",
    "#list = [1, 2, 3]\n",
    "#print(list[3])\n",
    "#(Give the error name + why it happens)"
   ]
  },
  {
   "cell_type": "markdown",
   "id": "76a72fdb",
   "metadata": {},
   "source": [
    "IndexError. We are trying to call the element that is not present in the list. The list range is only from 0 to 2."
   ]
  },
  {
   "cell_type": "code",
   "execution_count": 8,
   "id": "793d9f77",
   "metadata": {},
   "outputs": [],
   "source": [
    "#6.Write code to create a new column called \"Performance\" where: Sales > 1000 → \"High\"else → \"Low\"\n",
    "import pandas as pd\n",
    "df = pd.DataFrame({\n",
    "    'Product': ['A', 'B', 'C', 'D'],\n",
    "    'Sales': [500, 1500, 200, 3000]\n",
    "})\n"
   ]
  },
  {
   "cell_type": "code",
   "execution_count": 9,
   "id": "fe9c0655",
   "metadata": {},
   "outputs": [],
   "source": [
    "df['performance'] = df['Sales'].apply(lambda x: 'high' if x>1000 else 'low')"
   ]
  },
  {
   "cell_type": "code",
   "execution_count": 10,
   "id": "9d83e297",
   "metadata": {},
   "outputs": [
    {
     "data": {
      "text/html": [
       "<div>\n",
       "<style scoped>\n",
       "    .dataframe tbody tr th:only-of-type {\n",
       "        vertical-align: middle;\n",
       "    }\n",
       "\n",
       "    .dataframe tbody tr th {\n",
       "        vertical-align: top;\n",
       "    }\n",
       "\n",
       "    .dataframe thead th {\n",
       "        text-align: right;\n",
       "    }\n",
       "</style>\n",
       "<table border=\"1\" class=\"dataframe\">\n",
       "  <thead>\n",
       "    <tr style=\"text-align: right;\">\n",
       "      <th></th>\n",
       "      <th>Product</th>\n",
       "      <th>Sales</th>\n",
       "      <th>performance</th>\n",
       "    </tr>\n",
       "  </thead>\n",
       "  <tbody>\n",
       "    <tr>\n",
       "      <th>0</th>\n",
       "      <td>A</td>\n",
       "      <td>500</td>\n",
       "      <td>low</td>\n",
       "    </tr>\n",
       "    <tr>\n",
       "      <th>1</th>\n",
       "      <td>B</td>\n",
       "      <td>1500</td>\n",
       "      <td>high</td>\n",
       "    </tr>\n",
       "    <tr>\n",
       "      <th>2</th>\n",
       "      <td>C</td>\n",
       "      <td>200</td>\n",
       "      <td>low</td>\n",
       "    </tr>\n",
       "    <tr>\n",
       "      <th>3</th>\n",
       "      <td>D</td>\n",
       "      <td>3000</td>\n",
       "      <td>high</td>\n",
       "    </tr>\n",
       "  </tbody>\n",
       "</table>\n",
       "</div>"
      ],
      "text/plain": [
       "  Product  Sales performance\n",
       "0       A    500         low\n",
       "1       B   1500        high\n",
       "2       C    200         low\n",
       "3       D   3000        high"
      ]
     },
     "execution_count": 10,
     "metadata": {},
     "output_type": "execute_result"
    }
   ],
   "source": [
    "df"
   ]
  },
  {
   "cell_type": "code",
   "execution_count": 11,
   "id": "153b416b",
   "metadata": {},
   "outputs": [],
   "source": [
    "#7. Write Python code to find the maximum salary in each department.\n",
    "df = pd.DataFrame({\n",
    "    'Department': ['HR', 'IT', 'Finance', 'IT', 'HR'],\n",
    "    'Salary': [30000, 50000, 45000, 60000, 35000]\n",
    "})\n"
   ]
  },
  {
   "cell_type": "code",
   "execution_count": 12,
   "id": "1d9cae2d",
   "metadata": {},
   "outputs": [
    {
     "data": {
      "text/plain": [
       "Department\n",
       "Finance    45000\n",
       "HR         35000\n",
       "IT         60000\n",
       "Name: Salary, dtype: int64"
      ]
     },
     "execution_count": 12,
     "metadata": {},
     "output_type": "execute_result"
    }
   ],
   "source": [
    "df.groupby('Department')['Salary'].max()"
   ]
  },
  {
   "cell_type": "code",
   "execution_count": 13,
   "id": "c22e084b",
   "metadata": {},
   "outputs": [
    {
     "data": {
      "text/plain": [
       "(49.15, 51.0, 28.735822591323185)"
      ]
     },
     "execution_count": 13,
     "metadata": {},
     "output_type": "execute_result"
    }
   ],
   "source": [
    "#8. Create a NumPy array with 100 random integers between 1 and 100.\n",
    "#Find its mean, median, and standard deviation without using loops.\n",
    "\n",
    "arr = np.random.randint(1,100,100)\n",
    "np.mean(arr),np.median(arr),np.std(arr)"
   ]
  },
  {
   "cell_type": "code",
   "execution_count": 14,
   "id": "be010ee5",
   "metadata": {},
   "outputs": [],
   "source": [
    "#9. Write code to:\n",
    "#Count how many missing values are in each column.\n",
    "#Fill missing ages with the mean age and missing scores with the median score.\n",
    "df = pd.DataFrame({\n",
    "    'Name': ['A', 'B', 'C', 'D'],\n",
    "    'Age': [23, None, 29, None],\n",
    "    'Score': [90, 85, None, 95]\n",
    "})\n"
   ]
  },
  {
   "cell_type": "code",
   "execution_count": 15,
   "id": "07e88301",
   "metadata": {},
   "outputs": [
    {
     "data": {
      "text/plain": [
       "Name     0\n",
       "Age      2\n",
       "Score    1\n",
       "dtype: int64"
      ]
     },
     "execution_count": 15,
     "metadata": {},
     "output_type": "execute_result"
    }
   ],
   "source": [
    "df.isnull().sum()"
   ]
  },
  {
   "cell_type": "code",
   "execution_count": 16,
   "id": "ceab508f",
   "metadata": {},
   "outputs": [
    {
     "name": "stderr",
     "output_type": "stream",
     "text": [
      "C:\\Users\\hp\\AppData\\Local\\Temp\\ipykernel_1976\\1096274921.py:1: FutureWarning: A value is trying to be set on a copy of a DataFrame or Series through chained assignment using an inplace method.\n",
      "The behavior will change in pandas 3.0. This inplace method will never work because the intermediate object on which we are setting values always behaves as a copy.\n",
      "\n",
      "For example, when doing 'df[col].method(value, inplace=True)', try using 'df.method({col: value}, inplace=True)' or df[col] = df[col].method(value) instead, to perform the operation inplace on the original object.\n",
      "\n",
      "\n",
      "  df['Age'].fillna(df['Age'].mean(),inplace= True)\n",
      "C:\\Users\\hp\\AppData\\Local\\Temp\\ipykernel_1976\\1096274921.py:2: FutureWarning: A value is trying to be set on a copy of a DataFrame or Series through chained assignment using an inplace method.\n",
      "The behavior will change in pandas 3.0. This inplace method will never work because the intermediate object on which we are setting values always behaves as a copy.\n",
      "\n",
      "For example, when doing 'df[col].method(value, inplace=True)', try using 'df.method({col: value}, inplace=True)' or df[col] = df[col].method(value) instead, to perform the operation inplace on the original object.\n",
      "\n",
      "\n",
      "  df['Score'].fillna(df['Score'].median(),inplace = True)\n"
     ]
    }
   ],
   "source": [
    "df['Age'].fillna(df['Age'].mean(),inplace= True)\n",
    "df['Score'].fillna(df['Score'].median(),inplace = True)"
   ]
  },
  {
   "cell_type": "code",
   "execution_count": 17,
   "id": "011dcfbc",
   "metadata": {},
   "outputs": [],
   "source": [
    "#10. You are given a dictionary of student scores:\n",
    "scores = {'Ritika': 88, 'Aaditya': 95, 'Rahul': 72, 'Sunil': 91}\n",
    "#Write code to print the names of students sorted by their scores in descending order."
   ]
  },
  {
   "cell_type": "code",
   "execution_count": 18,
   "id": "3c8e1411",
   "metadata": {},
   "outputs": [
    {
     "data": {
      "text/plain": [
       "[('Aaditya', 95), ('Sunil', 91), ('Ritika', 88), ('Rahul', 72)]"
      ]
     },
     "execution_count": 18,
     "metadata": {},
     "output_type": "execute_result"
    }
   ],
   "source": [
    "sorted(scores.items(),key = lambda x : x[1],reverse = True)"
   ]
  }
 ],
 "metadata": {
  "kernelspec": {
   "display_name": "Python 3",
   "language": "python",
   "name": "python3"
  },
  "language_info": {
   "codemirror_mode": {
    "name": "ipython",
    "version": 3
   },
   "file_extension": ".py",
   "mimetype": "text/x-python",
   "name": "python",
   "nbconvert_exporter": "python",
   "pygments_lexer": "ipython3",
   "version": "3.12.3"
  }
 },
 "nbformat": 4,
 "nbformat_minor": 5
}
