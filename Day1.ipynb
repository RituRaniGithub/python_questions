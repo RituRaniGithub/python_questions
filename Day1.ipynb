{
 "cells": [
  {
   "cell_type": "markdown",
   "id": "db4cb4da-795c-4065-b148-e82a22cdeced",
   "metadata": {},
   "source": [
    "## Python Machine learning Interview Questions"
   ]
  },
  {
   "cell_type": "markdown",
   "id": "97e8940e-6cbf-4e08-9473-a49d1fcc817a",
   "metadata": {},
   "source": [
    "Every day, 10 Python and data-related problems are uploaded to help improve your skills for roles like Data Analyst and Data Scientist."
   ]
  },
  {
   "cell_type": "markdown",
   "id": "36c8e623-5622-4048-beca-20fcbb93c19a",
   "metadata": {},
   "source": [
    "## 1. Even-Odd Split with Mean\n",
    "Given a list, split into even and odd numbers. Print their mean separately.\n",
    "Input: [1, 2, 3, 4, 5, 6] → Output: Even Mean: 4.0, Odd Mean: 3.0"
   ]
  },
  {
   "cell_type": "code",
   "execution_count": 1,
   "id": "c4e40ff3-88dd-4ac2-bdcb-dbd36cdd5f02",
   "metadata": {},
   "outputs": [
    {
     "data": {
      "text/plain": [
       "4"
      ]
     },
     "execution_count": 1,
     "metadata": {},
     "output_type": "execute_result"
    }
   ],
   "source": [
    "import statistics\n",
    "my_list = [1, 2, 3, 4, 5, 6]\n",
    "even = [i for i in my_list if i%2 == 0]\n",
    "statistics.mean(even)"
   ]
  },
  {
   "cell_type": "code",
   "execution_count": 2,
   "id": "a125284b-6e2f-4361-9454-cd72ac9bb045",
   "metadata": {},
   "outputs": [
    {
     "data": {
      "text/plain": [
       "3"
      ]
     },
     "execution_count": 2,
     "metadata": {},
     "output_type": "execute_result"
    }
   ],
   "source": [
    "odd = [i for i in my_list if i%2 != 0]\n",
    "statistics.mean(odd)"
   ]
  },
  {
   "cell_type": "markdown",
   "id": "2c1ff608-2228-4a63-b809-dbdb5a37f7f8",
   "metadata": {},
   "source": [
    "## 2. Mode Finder\n",
    "Write a function that finds the mode (most frequent element) in a list.\n",
    "Hint: Use a dictionary or collections.Counter."
   ]
  },
  {
   "cell_type": "code",
   "execution_count": 3,
   "id": "fa88cc0a-d17e-459e-b0fa-9d56d5e1730c",
   "metadata": {},
   "outputs": [],
   "source": [
    "def mode(lst):\n",
    "    max_count = 0\n",
    "    mode_value = None\n",
    "    \n",
    "    for i in lst:\n",
    "        count = lst.count(i)  \n",
    "        if count > max_count:\n",
    "            max_count = count\n",
    "            mode_value = i    \n",
    "\n",
    "    return mode_value\n"
   ]
  },
  {
   "cell_type": "code",
   "execution_count": 4,
   "id": "79179877-e657-4657-a4b7-b48a15e0edbf",
   "metadata": {},
   "outputs": [
    {
     "name": "stdout",
     "output_type": "stream",
     "text": [
      "7\n"
     ]
    }
   ],
   "source": [
    "nums = [1, 1, 5, 7,7,7,8]\n",
    "print(mode(nums)) "
   ]
  },
  {
   "cell_type": "markdown",
   "id": "0a05b58a-9dca-4a88-8efe-110151d23e75",
   "metadata": {},
   "source": [
    "## 3. GroupBy Aggregation\n",
    "df = pd.DataFrame({\n",
    "    'Department': ['HR', 'Finance', 'HR', 'IT', 'Finance'],\n",
    "    'Salary': [30000, 50000, 32000, 45000, 52000]\n",
    "})\n",
    "Use groupby to compute average salary by department."
   ]
  },
  {
   "cell_type": "code",
   "execution_count": 5,
   "id": "22edd3e6-25dd-4680-b0eb-afd66441a767",
   "metadata": {},
   "outputs": [],
   "source": [
    "import pandas as pd\n",
    "df = pd.DataFrame({\n",
    "    'Department': ['HR', 'Finance', 'HR', 'IT', 'Finance'],\n",
    "    'Salary': [30000, 50000, 32000, 45000, 52000]\n",
    "})"
   ]
  },
  {
   "cell_type": "code",
   "execution_count": 6,
   "id": "732c6540-774e-4d9e-bc47-796766db9a12",
   "metadata": {},
   "outputs": [
    {
     "data": {
      "text/plain": [
       "Department\n",
       "Finance    51000.0\n",
       "HR         31000.0\n",
       "IT         45000.0\n",
       "Name: Salary, dtype: float64"
      ]
     },
     "execution_count": 6,
     "metadata": {},
     "output_type": "execute_result"
    }
   ],
   "source": [
    "df.groupby('Department')['Salary'].mean()"
   ]
  },
  {
   "cell_type": "markdown",
   "id": "f7af9c34-406b-4f3b-95c7-36bda45d42fb",
   "metadata": {},
   "source": [
    "## 4. Binning Ages\n",
    "Given an age column, create bins like \"Youth (<=25)\", \"Adult (26-60)\", \"Senior (>60)\"\n",
    "Hint: Use pd.cut() and add a new column Age_Group"
   ]
  },
  {
   "cell_type": "code",
   "execution_count": 7,
   "id": "9c36620b-f819-4f24-a05e-b25677223f6a",
   "metadata": {},
   "outputs": [],
   "source": [
    "df = pd.DataFrame({\n",
    "    'Department': ['HR', 'Finance', 'HR', 'IT', 'Finance'],\n",
    "    'Salary': [30000, 50000, 32000, 45000, 52000],\n",
    "    'Age': [21, 35, 65, 28, 56]\n",
    "})"
   ]
  },
  {
   "cell_type": "code",
   "execution_count": 8,
   "id": "cbfdf790-d558-42ff-940b-34df4b8af4dc",
   "metadata": {},
   "outputs": [],
   "source": [
    "df['Age_Group'] = pd.cut(df['Age'],bins = [0,25,60,100],labels = ['Youth','Adult','Senior'],right= True)"
   ]
  },
  {
   "cell_type": "code",
   "execution_count": 9,
   "id": "a69ed8b1-5fef-4dff-a9ff-683ffa3a22ff",
   "metadata": {},
   "outputs": [
    {
     "data": {
      "text/plain": [
       "0     Youth\n",
       "1     Adult\n",
       "2    Senior\n",
       "3     Adult\n",
       "4     Adult\n",
       "Name: Age_Group, dtype: category\n",
       "Categories (3, object): ['Youth' < 'Adult' < 'Senior']"
      ]
     },
     "execution_count": 9,
     "metadata": {},
     "output_type": "execute_result"
    }
   ],
   "source": [
    "df['Age_Group']"
   ]
  },
  {
   "cell_type": "markdown",
   "id": "fcec512b-fc8f-4196-baff-800d0fbc5488",
   "metadata": {},
   "source": [
    "## 5. Z-Score Normalization\n",
    "Write a function to standardize a list using Z-score:\n",
    "z = (x - mean) / std_dev"
   ]
  },
  {
   "cell_type": "code",
   "execution_count": 10,
   "id": "5ac05aa6-e781-464e-a9f3-7ea612c9ffdf",
   "metadata": {},
   "outputs": [
    {
     "data": {
      "text/plain": [
       "0   -1.066761\n",
       "1   -0.320028\n",
       "2    1.280114\n",
       "3   -0.693395\n",
       "4    0.800071\n",
       "Name: normalised_age, dtype: float64"
      ]
     },
     "execution_count": 10,
     "metadata": {},
     "output_type": "execute_result"
    }
   ],
   "source": [
    "df['normalised_age'] = (df['Age'] - df['Age'].mean())/df['Age'].std()\n",
    "df['normalised_age']"
   ]
  },
  {
   "cell_type": "markdown",
   "id": "295a20b7-7772-428e-bb6b-a5dd0a4e5382",
   "metadata": {},
   "source": [
    "## 6. What is the output?\n",
    "print(2 ** 3 ** 2)\n",
    "a) 512\n",
    "b) 64\n",
    "c) 16\n",
    "d) Error"
   ]
  },
  {
   "cell_type": "code",
   "execution_count": 11,
   "id": "d08e2049-d746-4f59-962e-fdc0292d1e49",
   "metadata": {},
   "outputs": [
    {
     "name": "stdout",
     "output_type": "stream",
     "text": [
      "512\n"
     ]
    }
   ],
   "source": [
    "print(2 ** 3 ** 2)\n",
    "#guessed 64 at first. But for exponentiation Python follows Right to left associativity. So it is 2 to the power 9 = 512"
   ]
  },
  {
   "cell_type": "markdown",
   "id": "8fab051e-d9a5-4aaf-a0dd-1e5b4650d238",
   "metadata": {},
   "source": [
    "## 7. Output of this code?\n",
    "x = [[], False, 0, '', 1]\n",
    "print(list(filter(bool, x)))\n",
    "a) [[], False, 0, '', 1]\n",
    "b) [1]\n",
    "c) [[], 1]\n",
    "d) []"
   ]
  },
  {
   "cell_type": "code",
   "execution_count": 12,
   "id": "720c5d75-2200-4b82-bd96-ab51c07a6fd0",
   "metadata": {},
   "outputs": [],
   "source": [
    "x = [[], False, 0, '', 1]"
   ]
  },
  {
   "cell_type": "code",
   "execution_count": 13,
   "id": "9d4510cd-ed9e-4bfb-bf18-d1b46ecf6277",
   "metadata": {},
   "outputs": [
    {
     "data": {
      "text/plain": [
       "[1]"
      ]
     },
     "execution_count": 13,
     "metadata": {},
     "output_type": "execute_result"
    }
   ],
   "source": [
    "list(filter(bool, x))"
   ]
  },
  {
   "cell_type": "markdown",
   "id": "f414cfea-ddb1-4e02-9c61-3875e88d9d2e",
   "metadata": {},
   "source": [
    "## 8. Predict the output:\n",
    "print([[x*y for x in range(1, 4)] for y in range(1, 3)])\n",
    "a) [[1, 2, 3], [1, 2, 3]]\n",
    "b) [[1, 2, 3], [2, 4, 6]]\n",
    "c) [[1, 2, 3], [3, 6, 9]]\n",
    "d) Error"
   ]
  },
  {
   "cell_type": "code",
   "execution_count": 14,
   "id": "201018e0-1149-4f30-8848-320f434281c1",
   "metadata": {},
   "outputs": [
    {
     "name": "stdout",
     "output_type": "stream",
     "text": [
      "[[1, 2, 3], [2, 4, 6]]\n"
     ]
    }
   ],
   "source": [
    "print([[x*y for x in range(1, 4)] for y in range(1, 3)]) "
   ]
  },
  {
   "cell_type": "markdown",
   "id": "8cab102b-f099-4e97-9668-1f054e0a4009",
   "metadata": {},
   "source": [
    "## 9. Find the output:\n",
    "for i in range(3):\n",
    "    if i == 1:\n",
    "        continue\n",
    "    print(i)\n",
    "else:\n",
    "    print(\"Done\")\n",
    "a) 0 2 Done\n",
    "b) 0 1 2 Done\n",
    "c) 0 2\n",
    "d) 0 2 else"
   ]
  },
  {
   "cell_type": "code",
   "execution_count": 15,
   "id": "901cd9e3-3427-4d94-bc3b-79e5be724c87",
   "metadata": {},
   "outputs": [
    {
     "name": "stdout",
     "output_type": "stream",
     "text": [
      "0\n",
      "2\n",
      "Done\n"
     ]
    }
   ],
   "source": [
    "for i in range(3):\n",
    "    if i == 1:\n",
    "        continue\n",
    "    print(i)\n",
    "else:\n",
    "    print(\"Done\")"
   ]
  },
  {
   "cell_type": "code",
   "execution_count": 16,
   "id": "d34cfb2f-cb35-4910-b1d7-f1a34471682d",
   "metadata": {},
   "outputs": [],
   "source": [
    "#The else block in a for loop executes only after the loop completes all its iterations without hitting a break.\n",
    "#In this case, since the loop completes normally the else block is executed."
   ]
  },
  {
   "cell_type": "markdown",
   "id": "9f25686c-5218-43b2-a4a2-0b0eca325e40",
   "metadata": {},
   "source": [
    "## 10. Find the output:\n",
    "a = \"Python\"\n",
    "print(a[::-1])\n",
    "a) Python\n",
    "b) nohtyP\n",
    "c) Error\n",
    "d) nthyoP"
   ]
  },
  {
   "cell_type": "code",
   "execution_count": 17,
   "id": "1b53dce5-888a-4c7b-b26e-d0fff592f896",
   "metadata": {},
   "outputs": [
    {
     "name": "stdout",
     "output_type": "stream",
     "text": [
      "nohtyP\n"
     ]
    }
   ],
   "source": [
    "a = \"Python\" \n",
    "print(a[::-1])"
   ]
  },
  {
   "cell_type": "markdown",
   "id": "f249b459-ea54-4ad2-99a9-65e0dbf44734",
   "metadata": {},
   "source": [
    "## 11. Extra: Add a Segment Score column\n",
    "data = {'Customer': ['A', 'B', 'C', 'D'],\n",
    "        'Age': [25, 45, 35, 23],\n",
    "        'Annual Income': [50000, 100000, 75000, 48000]}\n",
    "df = pd.DataFrame(data)\n",
    "\n",
    "Write code to:\n",
    "Normalize 'Annual Income'\n",
    "Bin Age into 3 categories (Youth, Adult, Senior)\n",
    "Add a Segment Score column as: AgeBin_Label + Income_Normalized_Value"
   ]
  },
  {
   "cell_type": "code",
   "execution_count": 18,
   "id": "be48cd3b-cde7-4c92-ab51-3aba9e175328",
   "metadata": {},
   "outputs": [],
   "source": [
    "data = {'Customer': ['A', 'B', 'C', 'D'],\n",
    "        'Age': [25, 45, 35, 23],\n",
    "        'Annual Income': [50000, 100000, 75000, 48000]}\n",
    "df = pd.DataFrame(data)\n"
   ]
  },
  {
   "cell_type": "code",
   "execution_count": 19,
   "id": "81c4f754-9065-438b-abb2-39bfa64f4b08",
   "metadata": {},
   "outputs": [],
   "source": [
    "df['Income_Normalized_Value'] = (df['Annual Income']-df['Annual Income'].mean())/df['Annual Income'].std()"
   ]
  },
  {
   "cell_type": "code",
   "execution_count": 20,
   "id": "3c4a737e-ccad-4a60-b283-af43c1c1005a",
   "metadata": {},
   "outputs": [],
   "source": [
    "df['AgeBin_Label'] = pd.cut(df['Age'],bins = [0,25,45,60],labels = ['Youth', 'Adult', 'Senior'],right = True)"
   ]
  },
  {
   "cell_type": "code",
   "execution_count": 21,
   "id": "5196b035-fa15-4d82-9e65-c825444acddf",
   "metadata": {},
   "outputs": [],
   "source": [
    "df['Score'] = df['AgeBin_Label'].astype(str)+ df['Income_Normalized_Value'].round(2).astype(str)"
   ]
  },
  {
   "cell_type": "code",
   "execution_count": 22,
   "id": "9a4bffe0-e25a-4775-a71c-43aef50a2d85",
   "metadata": {},
   "outputs": [
    {
     "data": {
      "text/plain": [
       "0    Youth-0.75\n",
       "1      Adult1.3\n",
       "2     Adult0.28\n",
       "3    Youth-0.83\n",
       "Name: Score, dtype: object"
      ]
     },
     "execution_count": 22,
     "metadata": {},
     "output_type": "execute_result"
    }
   ],
   "source": [
    "df['Score']"
   ]
  }
 ],
 "metadata": {
  "kernelspec": {
   "display_name": "Python 3",
   "language": "python",
   "name": "python3"
  },
  "language_info": {
   "codemirror_mode": {
    "name": "ipython",
    "version": 3
   },
   "file_extension": ".py",
   "mimetype": "text/x-python",
   "name": "python",
   "nbconvert_exporter": "python",
   "pygments_lexer": "ipython3",
   "version": "3.12.3"
  }
 },
 "nbformat": 4,
 "nbformat_minor": 5
}
