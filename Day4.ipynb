{
 "cells": [
  {
   "cell_type": "code",
   "execution_count": 29,
   "id": "71e4b0c8",
   "metadata": {},
   "outputs": [],
   "source": [
    "#1. Write a function that takes a string and returns a dictionary with counts of: vowels, consonants, digits, special characters.\n",
    "st = \"It's 4th day of the python questions!\"\n",
    "\n",
    "def cou(string):\n",
    "    string = string.lower()\n",
    "    vowels_count = consonant_count = digit_count = special_count = 0\n",
    "    vowels = 'aeiou'\n",
    "    for i in string:\n",
    "        if i in vowels:\n",
    "            vowels_count += 1\n",
    "        elif i.isdigit():\n",
    "            digit_count += 1\n",
    "        elif i.isalpha():\n",
    "            consonant_count += 1\n",
    "        elif not i.isspace():\n",
    "            special_count += 1\n",
    "    return {'Vowles':{vowels_count} ,'Consonants':{consonant_count}, 'Digits':{digit_count},'Special Characters':{special_count}}\n",
    "\n"
   ]
  },
  {
   "cell_type": "code",
   "execution_count": 30,
   "id": "34ff92bb",
   "metadata": {},
   "outputs": [
    {
     "data": {
      "text/plain": [
       "{'Vowles': {9}, 'Consonants': {19}, 'Digits': {1}, 'Special Characters': {2}}"
      ]
     },
     "execution_count": 30,
     "metadata": {},
     "output_type": "execute_result"
    }
   ],
   "source": [
    "cou(st)"
   ]
  },
  {
   "cell_type": "code",
   "execution_count": 31,
   "id": "8b9b19e0",
   "metadata": {},
   "outputs": [
    {
     "data": {
      "text/plain": [
       "array([ 9, 69, -1, -1, 39, -1, -1, 71, 51, -1, -1, 77, 65, 57, 99, -1, -1,\n",
       "       -1, 65, 23])"
      ]
     },
     "execution_count": 31,
     "metadata": {},
     "output_type": "execute_result"
    }
   ],
   "source": [
    "#2. Create a 1D NumPy array of 20 random integers between 1 and 100.\n",
    "# Replace all even numbers with -1.\n",
    "\n",
    "import numpy as np\n",
    "arr = np.random.randint(1,100,20)\n",
    "arr[arr%2 == 0] = -1\n",
    "arr"
   ]
  },
  {
   "cell_type": "code",
   "execution_count": 32,
   "id": "6dc1861d",
   "metadata": {},
   "outputs": [],
   "source": [
    "#3.x = (1,2,3)\n",
    "#x[0] = 10  #spot the error"
   ]
  },
  {
   "cell_type": "markdown",
   "id": "f34faba1",
   "metadata": {},
   "source": [
    "x is a tuple and tuple are immutable. We cannot change it after it has been created."
   ]
  },
  {
   "cell_type": "code",
   "execution_count": 33,
   "id": "6ecd1fca",
   "metadata": {},
   "outputs": [],
   "source": [
    "#4. Given two lists:\n",
    "# list1 = [1,2,3,4,5]\n",
    "# list2 = [4,5,6,7,8]\n",
    "# Find:\n",
    "# elements common in both\n",
    "# elements only in list1\n",
    "# union of both lists\n",
    "\n",
    "common_list = list(set([1,2,3,4,5]) & set([4,5,6,7,8]))\n",
    "only_in_list1 = list(set([1,2,3,4,5]) - set([4,5,6,7,8]))\n",
    "union_list = list(set([1,2,3,4,5]) | set([4,5,6,7,8]))"
   ]
  },
  {
   "cell_type": "code",
   "execution_count": 34,
   "id": "c3e7c2db",
   "metadata": {},
   "outputs": [
    {
     "data": {
      "text/plain": [
       "([4, 5], [1, 2, 3], [1, 2, 3, 4, 5, 6, 7, 8])"
      ]
     },
     "execution_count": 34,
     "metadata": {},
     "output_type": "execute_result"
    }
   ],
   "source": [
    "common_list, only_in_list1, union_list"
   ]
  },
  {
   "cell_type": "code",
   "execution_count": 35,
   "id": "7b951876",
   "metadata": {},
   "outputs": [],
   "source": [
    "#5. Write a function fibonacci(n) that returns a list of the first n Fibonacci numbers.\n",
    "\n",
    "def fibonacci(n):\n",
    "    fib_list = [0,1]\n",
    "    a,b = 0,1\n",
    "    for i in range(2,n):\n",
    "        c = a + b\n",
    "        fib_list.append(c)\n",
    "        a, b = b, c\n",
    "    return fib_list\n"
   ]
  },
  {
   "cell_type": "code",
   "execution_count": 36,
   "id": "eea1d346",
   "metadata": {},
   "outputs": [
    {
     "data": {
      "text/plain": [
       "[0, 1, 1, 2, 3, 5, 8, 13, 21, 34]"
      ]
     },
     "execution_count": 36,
     "metadata": {},
     "output_type": "execute_result"
    }
   ],
   "source": [
    "fibonacci(10)"
   ]
  },
  {
   "cell_type": "code",
   "execution_count": 37,
   "id": "32121f1f",
   "metadata": {},
   "outputs": [
    {
     "data": {
      "text/plain": [
       "[4, 7, 2, 3]"
      ]
     },
     "execution_count": 37,
     "metadata": {},
     "output_type": "execute_result"
    }
   ],
   "source": [
    "#6.Given:\n",
    "words = [\"data\", \"science\", \"is\", \"fun\"]\n",
    "# Create a list of the lengths of each word using a list comprehension.\n",
    "# (Expected: [4, 7, 2, 3])\n",
    "\n",
    "len_list = [len(word) for word in words]\n",
    "len_list"
   ]
  },
  {
   "cell_type": "code",
   "execution_count": 38,
   "id": "5a9b6ed3",
   "metadata": {},
   "outputs": [
    {
     "data": {
      "text/html": [
       "<div>\n",
       "<style scoped>\n",
       "    .dataframe tbody tr th:only-of-type {\n",
       "        vertical-align: middle;\n",
       "    }\n",
       "\n",
       "    .dataframe tbody tr th {\n",
       "        vertical-align: top;\n",
       "    }\n",
       "\n",
       "    .dataframe thead th {\n",
       "        text-align: right;\n",
       "    }\n",
       "</style>\n",
       "<table border=\"1\" class=\"dataframe\">\n",
       "  <thead>\n",
       "    <tr style=\"text-align: right;\">\n",
       "      <th></th>\n",
       "      <th>Name</th>\n",
       "      <th>Age</th>\n",
       "      <th>Department</th>\n",
       "    </tr>\n",
       "  </thead>\n",
       "  <tbody>\n",
       "    <tr>\n",
       "      <th>1</th>\n",
       "      <td>B</td>\n",
       "      <td>35</td>\n",
       "      <td>IT</td>\n",
       "    </tr>\n",
       "    <tr>\n",
       "      <th>3</th>\n",
       "      <td>D</td>\n",
       "      <td>40</td>\n",
       "      <td>IT</td>\n",
       "    </tr>\n",
       "  </tbody>\n",
       "</table>\n",
       "</div>"
      ],
      "text/plain": [
       "  Name  Age Department\n",
       "1    B   35         IT\n",
       "3    D   40         IT"
      ]
     },
     "execution_count": 38,
     "metadata": {},
     "output_type": "execute_result"
    }
   ],
   "source": [
    "#7.You are given:\n",
    "import pandas as pd\n",
    "df = pd.DataFrame({\n",
    "    'Name': ['A', 'B', 'C', 'D', 'E'],\n",
    "    'Age': [23, 35, 29, 40, 22],\n",
    "    'Department': ['HR', 'IT', 'Finance', 'IT', 'HR']\n",
    "})\n",
    "# Write code to filter only the rows where:\n",
    "# Age is greater than 25, and\n",
    "# Department is IT.\n",
    "df[(df['Age']>25) & (df['Department'] == 'IT')]"
   ]
  },
  {
   "cell_type": "code",
   "execution_count": 39,
   "id": "7b62f4e2",
   "metadata": {},
   "outputs": [
    {
     "data": {
      "text/plain": [
       "(array([[1, 4, 7],\n",
       "        [2, 5, 8],\n",
       "        [3, 6, 9]]),\n",
       " array([ 6, 15, 24]),\n",
       " array([[1., 2., 3.],\n",
       "        [4., 5., 6.],\n",
       "        [7., 8., 9.]]))"
      ]
     },
     "execution_count": 39,
     "metadata": {},
     "output_type": "execute_result"
    }
   ],
   "source": [
    "#8. Create a 3×3 NumPy matrix with values from 1 to 9.\n",
    "# Find its transpose.\n",
    "# Calculate the sum of each row.\n",
    "# Multiply it element-wise with another 3×3 matrix of ones.\n",
    "\n",
    "arr = np.arange(1,10).reshape(3,3)\n",
    "transpose1 = arr.T\n",
    "row_sum = arr.sum(axis=1)\n",
    "mat1 =np.ones((3,3))\n",
    "mul = arr*mat1\n",
    "transpose1, row_sum, mul"
   ]
  }
 ],
 "metadata": {
  "kernelspec": {
   "display_name": "Python 3",
   "language": "python",
   "name": "python3"
  },
  "language_info": {
   "codemirror_mode": {
    "name": "ipython",
    "version": 3
   },
   "file_extension": ".py",
   "mimetype": "text/x-python",
   "name": "python",
   "nbconvert_exporter": "python",
   "pygments_lexer": "ipython3",
   "version": "3.12.3"
  }
 },
 "nbformat": 4,
 "nbformat_minor": 5
}
